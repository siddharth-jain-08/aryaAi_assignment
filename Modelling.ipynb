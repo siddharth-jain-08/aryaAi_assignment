{
 "cells": [
  {
   "cell_type": "code",
   "execution_count": 10,
   "id": "26688ce9",
   "metadata": {},
   "outputs": [],
   "source": [
    "#computation\n",
    "import pandas as pd\n",
    "import numpy as np\n",
    "from scipy.stats import spearmanr\n",
    "from scipy import stats\n",
    "import statsmodels.api as sm\n",
    "\n",
    "#visualization\n",
    "import matplotlib.pyplot as plt\n",
    "import seaborn as sns\n",
    "import pylab\n",
    "\n",
    "#modelling\n",
    "from sklearn.feature_selection import SequentialFeatureSelector\n",
    "from sklearn.linear_model import Ridge\n",
    "from sklearn.model_selection import train_test_split\n",
    "from sklearn.linear_model import LogisticRegression\n",
    "from sklearn.svm import SVC\n",
    "from xgboost import XGBClassifier\n",
    "from sklearn.metrics import log_loss, accuracy_score, confusion_matrix, f1_score\n",
    "from sklearn.calibration  import CalibratedClassifierCV\n",
    "from sklearn.metrics import plot_confusion_matrix\n",
    "from sklearn.feature_selection import chi2, SelectKBest"
   ]
  },
  {
   "cell_type": "code",
   "execution_count": 11,
   "id": "2a42d5af",
   "metadata": {},
   "outputs": [
    {
     "data": {
      "text/html": [
       "<div>\n",
       "<style scoped>\n",
       "    .dataframe tbody tr th:only-of-type {\n",
       "        vertical-align: middle;\n",
       "    }\n",
       "\n",
       "    .dataframe tbody tr th {\n",
       "        vertical-align: top;\n",
       "    }\n",
       "\n",
       "    .dataframe thead th {\n",
       "        text-align: right;\n",
       "    }\n",
       "</style>\n",
       "<table border=\"1\" class=\"dataframe\">\n",
       "  <thead>\n",
       "    <tr style=\"text-align: right;\">\n",
       "      <th></th>\n",
       "      <th>Unnamed: 0</th>\n",
       "      <th>X1</th>\n",
       "      <th>X2</th>\n",
       "      <th>X3</th>\n",
       "      <th>X4</th>\n",
       "      <th>X5</th>\n",
       "      <th>X6</th>\n",
       "      <th>X7</th>\n",
       "      <th>X8</th>\n",
       "      <th>X9</th>\n",
       "      <th>...</th>\n",
       "      <th>X49</th>\n",
       "      <th>X50</th>\n",
       "      <th>X51</th>\n",
       "      <th>X52</th>\n",
       "      <th>X53</th>\n",
       "      <th>X54</th>\n",
       "      <th>X55</th>\n",
       "      <th>X56</th>\n",
       "      <th>X57</th>\n",
       "      <th>Y</th>\n",
       "    </tr>\n",
       "  </thead>\n",
       "  <tbody>\n",
       "    <tr>\n",
       "      <th>0</th>\n",
       "      <td>0</td>\n",
       "      <td>0.00</td>\n",
       "      <td>0.00</td>\n",
       "      <td>4.34</td>\n",
       "      <td>0.00</td>\n",
       "      <td>0.00</td>\n",
       "      <td>0.00</td>\n",
       "      <td>0.00</td>\n",
       "      <td>0.00</td>\n",
       "      <td>0.0</td>\n",
       "      <td>...</td>\n",
       "      <td>0.0</td>\n",
       "      <td>0.000</td>\n",
       "      <td>0.0</td>\n",
       "      <td>1.342</td>\n",
       "      <td>0.000</td>\n",
       "      <td>0.000</td>\n",
       "      <td>1.200</td>\n",
       "      <td>2</td>\n",
       "      <td>12</td>\n",
       "      <td>0</td>\n",
       "    </tr>\n",
       "    <tr>\n",
       "      <th>1</th>\n",
       "      <td>1</td>\n",
       "      <td>0.00</td>\n",
       "      <td>0.56</td>\n",
       "      <td>0.56</td>\n",
       "      <td>0.00</td>\n",
       "      <td>1.12</td>\n",
       "      <td>0.56</td>\n",
       "      <td>2.25</td>\n",
       "      <td>0.00</td>\n",
       "      <td>0.0</td>\n",
       "      <td>...</td>\n",
       "      <td>0.0</td>\n",
       "      <td>0.083</td>\n",
       "      <td>0.0</td>\n",
       "      <td>0.503</td>\n",
       "      <td>0.000</td>\n",
       "      <td>0.083</td>\n",
       "      <td>16.304</td>\n",
       "      <td>148</td>\n",
       "      <td>375</td>\n",
       "      <td>1</td>\n",
       "    </tr>\n",
       "    <tr>\n",
       "      <th>2</th>\n",
       "      <td>2</td>\n",
       "      <td>0.00</td>\n",
       "      <td>0.00</td>\n",
       "      <td>0.00</td>\n",
       "      <td>0.00</td>\n",
       "      <td>0.00</td>\n",
       "      <td>0.00</td>\n",
       "      <td>0.00</td>\n",
       "      <td>0.00</td>\n",
       "      <td>0.0</td>\n",
       "      <td>...</td>\n",
       "      <td>0.0</td>\n",
       "      <td>0.000</td>\n",
       "      <td>0.0</td>\n",
       "      <td>0.000</td>\n",
       "      <td>0.000</td>\n",
       "      <td>0.000</td>\n",
       "      <td>1.000</td>\n",
       "      <td>1</td>\n",
       "      <td>5</td>\n",
       "      <td>0</td>\n",
       "    </tr>\n",
       "    <tr>\n",
       "      <th>3</th>\n",
       "      <td>3</td>\n",
       "      <td>0.64</td>\n",
       "      <td>0.00</td>\n",
       "      <td>0.64</td>\n",
       "      <td>0.00</td>\n",
       "      <td>1.93</td>\n",
       "      <td>0.00</td>\n",
       "      <td>0.00</td>\n",
       "      <td>0.00</td>\n",
       "      <td>0.0</td>\n",
       "      <td>...</td>\n",
       "      <td>0.0</td>\n",
       "      <td>0.000</td>\n",
       "      <td>0.0</td>\n",
       "      <td>0.462</td>\n",
       "      <td>0.370</td>\n",
       "      <td>0.000</td>\n",
       "      <td>2.440</td>\n",
       "      <td>22</td>\n",
       "      <td>122</td>\n",
       "      <td>1</td>\n",
       "    </tr>\n",
       "    <tr>\n",
       "      <th>4</th>\n",
       "      <td>4</td>\n",
       "      <td>0.58</td>\n",
       "      <td>0.00</td>\n",
       "      <td>0.00</td>\n",
       "      <td>35.46</td>\n",
       "      <td>0.58</td>\n",
       "      <td>0.00</td>\n",
       "      <td>0.58</td>\n",
       "      <td>0.58</td>\n",
       "      <td>0.0</td>\n",
       "      <td>...</td>\n",
       "      <td>0.0</td>\n",
       "      <td>0.000</td>\n",
       "      <td>0.0</td>\n",
       "      <td>0.239</td>\n",
       "      <td>0.239</td>\n",
       "      <td>0.000</td>\n",
       "      <td>3.338</td>\n",
       "      <td>123</td>\n",
       "      <td>207</td>\n",
       "      <td>1</td>\n",
       "    </tr>\n",
       "  </tbody>\n",
       "</table>\n",
       "<p>5 rows × 59 columns</p>\n",
       "</div>"
      ],
      "text/plain": [
       "   Unnamed: 0    X1    X2    X3     X4    X5    X6    X7    X8   X9  ...  X49  \\\n",
       "0           0  0.00  0.00  4.34   0.00  0.00  0.00  0.00  0.00  0.0  ...  0.0   \n",
       "1           1  0.00  0.56  0.56   0.00  1.12  0.56  2.25  0.00  0.0  ...  0.0   \n",
       "2           2  0.00  0.00  0.00   0.00  0.00  0.00  0.00  0.00  0.0  ...  0.0   \n",
       "3           3  0.64  0.00  0.64   0.00  1.93  0.00  0.00  0.00  0.0  ...  0.0   \n",
       "4           4  0.58  0.00  0.00  35.46  0.58  0.00  0.58  0.58  0.0  ...  0.0   \n",
       "\n",
       "     X50  X51    X52    X53    X54     X55  X56  X57  Y  \n",
       "0  0.000  0.0  1.342  0.000  0.000   1.200    2   12  0  \n",
       "1  0.083  0.0  0.503  0.000  0.083  16.304  148  375  1  \n",
       "2  0.000  0.0  0.000  0.000  0.000   1.000    1    5  0  \n",
       "3  0.000  0.0  0.462  0.370  0.000   2.440   22  122  1  \n",
       "4  0.000  0.0  0.239  0.239  0.000   3.338  123  207  1  \n",
       "\n",
       "[5 rows x 59 columns]"
      ]
     },
     "execution_count": 11,
     "metadata": {},
     "output_type": "execute_result"
    }
   ],
   "source": [
    "#read the data\n",
    "df = pd.read_csv('training_set.csv')\n",
    "df.head()"
   ]
  },
  {
   "cell_type": "code",
   "execution_count": 12,
   "id": "6eaba883",
   "metadata": {},
   "outputs": [],
   "source": [
    "#independent variables\n",
    "features = df.columns[1:58]\n",
    "#dependent variable/class labels\n",
    "class_label = df['Y']"
   ]
  },
  {
   "cell_type": "markdown",
   "id": "93be5eb6",
   "metadata": {},
   "source": [
    "<h2>Feature selection using chi2 test</h2>"
   ]
  },
  {
   "cell_type": "code",
   "execution_count": 72,
   "id": "637b17a6",
   "metadata": {},
   "outputs": [
    {
     "data": {
      "text/html": [
       "<div>\n",
       "<style scoped>\n",
       "    .dataframe tbody tr th:only-of-type {\n",
       "        vertical-align: middle;\n",
       "    }\n",
       "\n",
       "    .dataframe tbody tr th {\n",
       "        vertical-align: top;\n",
       "    }\n",
       "\n",
       "    .dataframe thead th {\n",
       "        text-align: right;\n",
       "    }\n",
       "</style>\n",
       "<table border=\"1\" class=\"dataframe\">\n",
       "  <thead>\n",
       "    <tr style=\"text-align: right;\">\n",
       "      <th></th>\n",
       "      <th>X7</th>\n",
       "      <th>X16</th>\n",
       "      <th>X19</th>\n",
       "      <th>X21</th>\n",
       "      <th>X25</th>\n",
       "      <th>X26</th>\n",
       "      <th>X27</th>\n",
       "      <th>X55</th>\n",
       "      <th>X56</th>\n",
       "      <th>X57</th>\n",
       "    </tr>\n",
       "  </thead>\n",
       "  <tbody>\n",
       "    <tr>\n",
       "      <th>0</th>\n",
       "      <td>0.00</td>\n",
       "      <td>0.00</td>\n",
       "      <td>0.00</td>\n",
       "      <td>0.00</td>\n",
       "      <td>0.0</td>\n",
       "      <td>0.0</td>\n",
       "      <td>0.0</td>\n",
       "      <td>1.200</td>\n",
       "      <td>2</td>\n",
       "      <td>12</td>\n",
       "    </tr>\n",
       "    <tr>\n",
       "      <th>1</th>\n",
       "      <td>2.25</td>\n",
       "      <td>0.00</td>\n",
       "      <td>3.38</td>\n",
       "      <td>1.12</td>\n",
       "      <td>0.0</td>\n",
       "      <td>0.0</td>\n",
       "      <td>0.0</td>\n",
       "      <td>16.304</td>\n",
       "      <td>148</td>\n",
       "      <td>375</td>\n",
       "    </tr>\n",
       "    <tr>\n",
       "      <th>2</th>\n",
       "      <td>0.00</td>\n",
       "      <td>0.00</td>\n",
       "      <td>8.10</td>\n",
       "      <td>0.00</td>\n",
       "      <td>0.0</td>\n",
       "      <td>0.0</td>\n",
       "      <td>0.0</td>\n",
       "      <td>1.000</td>\n",
       "      <td>1</td>\n",
       "      <td>5</td>\n",
       "    </tr>\n",
       "    <tr>\n",
       "      <th>3</th>\n",
       "      <td>0.00</td>\n",
       "      <td>1.29</td>\n",
       "      <td>1.93</td>\n",
       "      <td>2.58</td>\n",
       "      <td>0.0</td>\n",
       "      <td>0.0</td>\n",
       "      <td>0.0</td>\n",
       "      <td>2.440</td>\n",
       "      <td>22</td>\n",
       "      <td>122</td>\n",
       "    </tr>\n",
       "    <tr>\n",
       "      <th>4</th>\n",
       "      <td>0.58</td>\n",
       "      <td>0.58</td>\n",
       "      <td>0.58</td>\n",
       "      <td>1.74</td>\n",
       "      <td>0.0</td>\n",
       "      <td>0.0</td>\n",
       "      <td>0.0</td>\n",
       "      <td>3.338</td>\n",
       "      <td>123</td>\n",
       "      <td>207</td>\n",
       "    </tr>\n",
       "  </tbody>\n",
       "</table>\n",
       "</div>"
      ],
      "text/plain": [
       "     X7   X16   X19   X21  X25  X26  X27     X55  X56  X57\n",
       "0  0.00  0.00  0.00  0.00  0.0  0.0  0.0   1.200    2   12\n",
       "1  2.25  0.00  3.38  1.12  0.0  0.0  0.0  16.304  148  375\n",
       "2  0.00  0.00  8.10  0.00  0.0  0.0  0.0   1.000    1    5\n",
       "3  0.00  1.29  1.93  2.58  0.0  0.0  0.0   2.440   22  122\n",
       "4  0.58  0.58  0.58  1.74  0.0  0.0  0.0   3.338  123  207"
      ]
     },
     "execution_count": 72,
     "metadata": {},
     "output_type": "execute_result"
    }
   ],
   "source": [
    "#select top features using chi2 test\n",
    "select_kbest = SelectKBest(score_func=chi2)\n",
    "#fit the data\n",
    "most_imp_bigram = select_kbest.fit(df[features], class_label)\n",
    "#get feature names of top selected features\n",
    "selected_features = select_kbest.get_feature_names_out()\n",
    "df_final = df[list(selected_features)]\n",
    "df_final.head()"
   ]
  },
  {
   "cell_type": "code",
   "execution_count": 73,
   "id": "b844e304",
   "metadata": {},
   "outputs": [
    {
     "name": "stderr",
     "output_type": "stream",
     "text": [
      "<ipython-input-73-5518bc454034>:3: SettingWithCopyWarning: \n",
      "A value is trying to be set on a copy of a slice from a DataFrame.\n",
      "Try using .loc[row_indexer,col_indexer] = value instead\n",
      "\n",
      "See the caveats in the documentation: https://pandas.pydata.org/pandas-docs/stable/user_guide/indexing.html#returning-a-view-versus-a-copy\n",
      "  df_final[i]  = np.log(df_final[i]+1e-3)\n"
     ]
    }
   ],
   "source": [
    "#since the data is right skewed hence applying log transform to selected features \n",
    "for i in list(selected_features):\n",
    "    df_final[i]  = np.log(df_final[i]+1e-3)"
   ]
  },
  {
   "cell_type": "code",
   "execution_count": 74,
   "id": "f995da63",
   "metadata": {},
   "outputs": [],
   "source": [
    "#split the data into train and validation data\n",
    "X = df_final\n",
    "Y = class_label\n",
    "X_train, X_val, y_train, y_val =  train_test_split(X, Y, test_size = 0.2, random_state = 20)"
   ]
  },
  {
   "cell_type": "markdown",
   "id": "b61b3c3d",
   "metadata": {},
   "source": [
    "<h1>Modelling</h1>"
   ]
  },
  {
   "cell_type": "markdown",
   "id": "0ca073b3",
   "metadata": {},
   "source": [
    "<h2>Logistic Regression</h2>\n",
    "\n",
    "- with features selected using chi2 test"
   ]
  },
  {
   "cell_type": "code",
   "execution_count": 75,
   "id": "65dbefee",
   "metadata": {},
   "outputs": [
    {
     "data": {
      "text/plain": [
       "LogisticRegression(C=100, class_weight='balanced')"
      ]
     },
     "execution_count": 75,
     "metadata": {},
     "output_type": "execute_result"
    }
   ],
   "source": [
    "lr = LogisticRegression(C=100, class_weight = 'balanced')\n",
    "lr.fit(X_train, y_train)"
   ]
  },
  {
   "cell_type": "code",
   "execution_count": 76,
   "id": "152e5562",
   "metadata": {},
   "outputs": [
    {
     "name": "stdout",
     "output_type": "stream",
     "text": [
      "training accuracy - 0.8887468030690537,  val accuracy - 0.887468030690537\n",
      "training f1 - 0.8632075471698114,  val f1 - 0.8450704225352113\n",
      "training log loss - 0.2647180393535035, val log loss - 0.2621334551786169\n"
     ]
    },
    {
     "name": "stderr",
     "output_type": "stream",
     "text": [
      "C:\\Users\\siddh\\Anaconda3\\lib\\site-packages\\sklearn\\utils\\deprecation.py:87: FutureWarning: Function plot_confusion_matrix is deprecated; Function `plot_confusion_matrix` is deprecated in 1.0 and will be removed in 1.2. Use one of the class methods: ConfusionMatrixDisplay.from_predictions or ConfusionMatrixDisplay.from_estimator.\n",
      "  warnings.warn(msg, category=FutureWarning)\n"
     ]
    },
    {
     "data": {
      "image/png": "[encoded data removed]",
      "text/plain": [
       "<Figure size 432x288 with 2 Axes>"
      ]
     },
     "metadata": {
      "needs_background": "light"
     },
     "output_type": "display_data"
    }
   ],
   "source": [
    "y_pred_tr = lr.predict(X_train)\n",
    "y_pred = lr.predict(X_val)\n",
    "print(\"training accuracy - {},  val accuracy - {}\".format(accuracy_score(y_train, y_pred_tr), accuracy_score(y_val, y_pred)))\n",
    "print(\"training f1 - {},  val f1 - {}\".format(f1_score(y_train, y_pred_tr), f1_score(y_val, y_pred)))\n",
    "y_pred_proba_tr = lr.predict_proba(X_train)\n",
    "y_pred_proba = lr.predict_proba(X_val)\n",
    "print(\"training log loss - {}, val log loss - {}\".format(log_loss(y_train, y_pred_proba_tr), log_loss(y_val, y_pred_proba)))\n",
    "plot_confusion_matrix(lr, X_val, y_val)  \n",
    "plt.show()"
   ]
  },
  {
   "cell_type": "markdown",
   "id": "9ffcf8bd",
   "metadata": {},
   "source": [
    "<h2>SVM</h2>\n",
    "\n",
    "- with  features selected using chi2 test"
   ]
  },
  {
   "cell_type": "code",
   "execution_count": 77,
   "id": "5ddfa228",
   "metadata": {},
   "outputs": [
    {
     "data": {
      "text/plain": [
       "SVC(class_weight='balanced', kernel='poly', probability=True)"
      ]
     },
     "execution_count": 77,
     "metadata": {},
     "output_type": "execute_result"
    }
   ],
   "source": [
    "#polynomial kernel with degree 3 performed the best among all the kernels including linear and rbf\n",
    "svm = SVC(kernel = 'poly', degree = 3, class_weight = 'balanced', probability=True)\n",
    "svm.fit(X_train, y_train)"
   ]
  },
  {
   "cell_type": "code",
   "execution_count": 78,
   "id": "ff8535be",
   "metadata": {},
   "outputs": [
    {
     "name": "stdout",
     "output_type": "stream",
     "text": [
      "training accuracy - 0.8868286445012787,  val accuracy - 0.8925831202046036\n",
      "training f1 - 0.8608490566037735,  val f1 - 0.85\n",
      "training log loss - 0.258191656355126, val log loss - 0.25579109339179973\n"
     ]
    },
    {
     "name": "stderr",
     "output_type": "stream",
     "text": [
      "C:\\Users\\siddh\\Anaconda3\\lib\\site-packages\\sklearn\\utils\\deprecation.py:87: FutureWarning: Function plot_confusion_matrix is deprecated; Function `plot_confusion_matrix` is deprecated in 1.0 and will be removed in 1.2. Use one of the class methods: ConfusionMatrixDisplay.from_predictions or ConfusionMatrixDisplay.from_estimator.\n",
      "  warnings.warn(msg, category=FutureWarning)\n"
     ]
    },
    {
     "data": {
      "image/png": "[encoded data removed]",
      "text/plain": [
       "<Figure size 432x288 with 2 Axes>"
      ]
     },
     "metadata": {
      "needs_background": "light"
     },
     "output_type": "display_data"
    }
   ],
   "source": [
    "y_pred_tr = svm.predict(X_train)\n",
    "y_pred = svm.predict(X_val)\n",
    "print(\"training accuracy - {},  val accuracy - {}\".format(accuracy_score(y_train, y_pred_tr), accuracy_score(y_val, y_pred)))\n",
    "print(\"training f1 - {},  val f1 - {}\".format(f1_score(y_train, y_pred_tr), f1_score(y_val, y_pred)))\n",
    "y_pred_proba_tr = svm.predict_proba(X_train)\n",
    "y_pred_proba = svm.predict_proba(X_val)\n",
    "print(\"training log loss - {}, val log loss - {}\".format(log_loss(y_train, y_pred_proba_tr), log_loss(y_val, y_pred_proba)))\n",
    "plot_confusion_matrix(svm, X_val, y_val)  \n",
    "plt.show()"
   ]
  },
  {
   "cell_type": "code",
   "execution_count": 79,
   "id": "ae6de482",
   "metadata": {},
   "outputs": [],
   "source": [
    "# pip install --upgrade xgboost==0.22.2"
   ]
  },
  {
   "cell_type": "markdown",
   "id": "fe7e97ae",
   "metadata": {},
   "source": [
    "<h3>XGBOOST</h3>"
   ]
  },
  {
   "cell_type": "code",
   "execution_count": 80,
   "id": "434eeab1",
   "metadata": {},
   "outputs": [
    {
     "data": {
      "text/plain": [
       "CalibratedClassifierCV(base_estimator=XGBClassifier(base_score=0.5,\n",
       "                                                    booster='gbtree',\n",
       "                                                    callbacks=None,\n",
       "                                                    colsample_bylevel=1,\n",
       "                                                    colsample_bynode=1,\n",
       "                                                    colsample_bytree=1,\n",
       "                                                    early_stopping_rounds=None,\n",
       "                                                    enable_categorical=False,\n",
       "                                                    eval_metric=None, gamma=0,\n",
       "                                                    gpu_id=-1,\n",
       "                                                    grow_policy='depthwise',\n",
       "                                                    importance_type=None,\n",
       "                                                    interaction_constraints='',\n",
       "                                                    learning_rate=0.300000012,\n",
       "                                                    max_bin=256,\n",
       "                                                    max_cat_to_onehot=4,\n",
       "                                                    max_delta_step=0,\n",
       "                                                    max_depth=6, max_leaves=0,\n",
       "                                                    min_child_weight=1,\n",
       "                                                    missing=nan,\n",
       "                                                    monotone_constraints='()',\n",
       "                                                    n_estimators=100, n_jobs=0,\n",
       "                                                    num_parallel_tree=1,\n",
       "                                                    predictor='auto',\n",
       "                                                    random_state=0, reg_alpha=0,\n",
       "                                                    reg_lambda=1, ...))"
      ]
     },
     "execution_count": 80,
     "metadata": {},
     "output_type": "execute_result"
    }
   ],
   "source": [
    "xg_cf=XGBClassifier()\n",
    "xg_cf.fit(X_train,y_train)\n",
    "c_cfl=CalibratedClassifierCV(xg_cf, method='sigmoid')\n",
    "c_cfl.fit(X_train, y_train)"
   ]
  },
  {
   "cell_type": "code",
   "execution_count": 81,
   "id": "0842c74e",
   "metadata": {},
   "outputs": [
    {
     "name": "stdout",
     "output_type": "stream",
     "text": [
      "training accuracy - 0.9942455242966752,  val accuracy - 0.9373401534526854\n",
      "training f1 - 0.9927884615384615,  val f1 - 0.912655971479501\n",
      "training log loss - 0.08205842520952496, val log loss - 0.19453738484638983\n"
     ]
    },
    {
     "name": "stderr",
     "output_type": "stream",
     "text": [
      "C:\\Users\\siddh\\Anaconda3\\lib\\site-packages\\sklearn\\utils\\deprecation.py:87: FutureWarning: Function plot_confusion_matrix is deprecated; Function `plot_confusion_matrix` is deprecated in 1.0 and will be removed in 1.2. Use one of the class methods: ConfusionMatrixDisplay.from_predictions or ConfusionMatrixDisplay.from_estimator.\n",
      "  warnings.warn(msg, category=FutureWarning)\n"
     ]
    },
    {
     "data": {
      "image/png": "[encoded data removed]",
      "text/plain": [
       "<Figure size 432x288 with 2 Axes>"
      ]
     },
     "metadata": {
      "needs_background": "light"
     },
     "output_type": "display_data"
    }
   ],
   "source": [
    "xg_cf=XGBClassifier()\n",
    "xg_cf.fit(X_train,y_train)\n",
    "c_cfl=CalibratedClassifierCV(xg_cf, method='sigmoid')\n",
    "c_cfl.fit(X_train, y_train)\n",
    "\n",
    "y_pred_tr = xg_cf.predict(X_train)\n",
    "y_pred = xg_cf.predict(X_val)\n",
    "print(\"training accuracy - {},  val accuracy - {}\".format(accuracy_score(y_train, y_pred_tr), accuracy_score(y_val, y_pred)))\n",
    "print(\"training f1 - {},  val f1 - {}\".format(f1_score(y_train, y_pred_tr), f1_score(y_val, y_pred)))\n",
    "y_pred_proba_tr = c_cfl.predict_proba(X_train)\n",
    "y_pred_proba = c_cfl.predict_proba(X_val)\n",
    "print(\"training log loss - {}, val log loss - {}\".format(log_loss(y_train, y_pred_proba_tr), log_loss(y_val, y_pred_proba)))\n",
    "plot_confusion_matrix(xg_cf, X_val, y_val)  \n",
    "plt.show()"
   ]
  },
  {
   "cell_type": "code",
   "execution_count": 82,
   "id": "87f87cd0",
   "metadata": {},
   "outputs": [
    {
     "data": {
      "image/png": "[encoded data removed]",
      "text/plain": [
       "<Figure size 864x864 with 1 Axes>"
      ]
     },
     "metadata": {
      "needs_background": "light"
     },
     "output_type": "display_data"
    }
   ],
   "source": [
    "plot_feature_importances(xg_cf)"
   ]
  },
  {
   "cell_type": "markdown",
   "id": "d7975cd0",
   "metadata": {},
   "source": [
    "<h2>Feature selection using forward feature selection</h2>"
   ]
  },
  {
   "cell_type": "code",
   "execution_count": 13,
   "id": "d2b7ce1c",
   "metadata": {},
   "outputs": [],
   "source": [
    "from sklearn.calibration  import CalibratedClassifierCV"
   ]
  },
  {
   "cell_type": "code",
   "execution_count": 14,
   "id": "327c2367",
   "metadata": {},
   "outputs": [],
   "source": [
    "clf = Ridge(alpha=1.0)\n",
    "sfs_forward = SequentialFeatureSelector(\n",
    "    clf, n_features_to_select=0.6, direction=\"forward\").fit(df[features], df['Y'])\n",
    "\n",
    "#get top selected features  \n",
    "sfs_forward.get_feature_names_out()\n",
    "df_final = df[list(sfs_forward.get_feature_names_out())]"
   ]
  },
  {
   "cell_type": "code",
   "execution_count": 15,
   "id": "63830b7c",
   "metadata": {},
   "outputs": [
    {
     "name": "stderr",
     "output_type": "stream",
     "text": [
      "<ipython-input-15-1b0dcb43bf6c>:3: SettingWithCopyWarning: \n",
      "A value is trying to be set on a copy of a slice from a DataFrame.\n",
      "Try using .loc[row_indexer,col_indexer] = value instead\n",
      "\n",
      "See the caveats in the documentation: https://pandas.pydata.org/pandas-docs/stable/user_guide/indexing.html#returning-a-view-versus-a-copy\n",
      "  df_final[i]  = np.log(df_final[i]+1e-3)\n"
     ]
    }
   ],
   "source": [
    "#since the data is right swewed hence applying log transform to selected features\n",
    "for i in sfs_forward.get_feature_names_out():\n",
    "    df_final[i]  = np.log(df_final[i]+1e-3)"
   ]
  },
  {
   "cell_type": "code",
   "execution_count": 16,
   "id": "ea0f19d9",
   "metadata": {},
   "outputs": [
    {
     "data": {
      "text/html": [
       "<div>\n",
       "<style scoped>\n",
       "    .dataframe tbody tr th:only-of-type {\n",
       "        vertical-align: middle;\n",
       "    }\n",
       "\n",
       "    .dataframe tbody tr th {\n",
       "        vertical-align: top;\n",
       "    }\n",
       "\n",
       "    .dataframe thead th {\n",
       "        text-align: right;\n",
       "    }\n",
       "</style>\n",
       "<table border=\"1\" class=\"dataframe\">\n",
       "  <thead>\n",
       "    <tr style=\"text-align: right;\">\n",
       "      <th></th>\n",
       "      <th>X3</th>\n",
       "      <th>X4</th>\n",
       "      <th>X5</th>\n",
       "      <th>X6</th>\n",
       "      <th>X7</th>\n",
       "      <th>X8</th>\n",
       "      <th>X9</th>\n",
       "      <th>X12</th>\n",
       "      <th>X16</th>\n",
       "      <th>X17</th>\n",
       "      <th>...</th>\n",
       "      <th>X43</th>\n",
       "      <th>X44</th>\n",
       "      <th>X45</th>\n",
       "      <th>X46</th>\n",
       "      <th>X47</th>\n",
       "      <th>X48</th>\n",
       "      <th>X49</th>\n",
       "      <th>X52</th>\n",
       "      <th>X53</th>\n",
       "      <th>X57</th>\n",
       "    </tr>\n",
       "  </thead>\n",
       "  <tbody>\n",
       "    <tr>\n",
       "      <th>0</th>\n",
       "      <td>1.468105</td>\n",
       "      <td>-6.907755</td>\n",
       "      <td>-6.907755</td>\n",
       "      <td>-6.907755</td>\n",
       "      <td>-6.907755</td>\n",
       "      <td>-6.907755</td>\n",
       "      <td>-6.907755</td>\n",
       "      <td>-6.907755</td>\n",
       "      <td>-6.907755</td>\n",
       "      <td>-6.907755</td>\n",
       "      <td>...</td>\n",
       "      <td>-6.907755</td>\n",
       "      <td>-6.907755</td>\n",
       "      <td>-6.907755</td>\n",
       "      <td>-6.907755</td>\n",
       "      <td>-6.907755</td>\n",
       "      <td>-6.907755</td>\n",
       "      <td>-6.907755</td>\n",
       "      <td>0.294906</td>\n",
       "      <td>-6.907755</td>\n",
       "      <td>2.484990</td>\n",
       "    </tr>\n",
       "    <tr>\n",
       "      <th>1</th>\n",
       "      <td>-0.578034</td>\n",
       "      <td>-6.907755</td>\n",
       "      <td>0.114221</td>\n",
       "      <td>-0.578034</td>\n",
       "      <td>0.811375</td>\n",
       "      <td>-6.907755</td>\n",
       "      <td>-6.907755</td>\n",
       "      <td>-0.578034</td>\n",
       "      <td>-6.907755</td>\n",
       "      <td>-6.907755</td>\n",
       "      <td>...</td>\n",
       "      <td>-6.907755</td>\n",
       "      <td>-6.907755</td>\n",
       "      <td>-0.578034</td>\n",
       "      <td>-6.907755</td>\n",
       "      <td>-6.907755</td>\n",
       "      <td>-6.907755</td>\n",
       "      <td>-6.907755</td>\n",
       "      <td>-0.685179</td>\n",
       "      <td>-6.907755</td>\n",
       "      <td>5.926929</td>\n",
       "    </tr>\n",
       "    <tr>\n",
       "      <th>2</th>\n",
       "      <td>-6.907755</td>\n",
       "      <td>-6.907755</td>\n",
       "      <td>-6.907755</td>\n",
       "      <td>-6.907755</td>\n",
       "      <td>-6.907755</td>\n",
       "      <td>-6.907755</td>\n",
       "      <td>-6.907755</td>\n",
       "      <td>-6.907755</td>\n",
       "      <td>-6.907755</td>\n",
       "      <td>-6.907755</td>\n",
       "      <td>...</td>\n",
       "      <td>-6.907755</td>\n",
       "      <td>-6.907755</td>\n",
       "      <td>0.993622</td>\n",
       "      <td>-6.907755</td>\n",
       "      <td>-6.907755</td>\n",
       "      <td>-6.907755</td>\n",
       "      <td>-6.907755</td>\n",
       "      <td>-6.907755</td>\n",
       "      <td>-6.907755</td>\n",
       "      <td>1.609638</td>\n",
       "    </tr>\n",
       "    <tr>\n",
       "      <th>3</th>\n",
       "      <td>-0.444726</td>\n",
       "      <td>-6.907755</td>\n",
       "      <td>0.658038</td>\n",
       "      <td>-6.907755</td>\n",
       "      <td>-6.907755</td>\n",
       "      <td>-6.907755</td>\n",
       "      <td>-6.907755</td>\n",
       "      <td>0.255417</td>\n",
       "      <td>0.255417</td>\n",
       "      <td>-0.444726</td>\n",
       "      <td>...</td>\n",
       "      <td>-6.907755</td>\n",
       "      <td>-6.907755</td>\n",
       "      <td>-6.907755</td>\n",
       "      <td>-6.907755</td>\n",
       "      <td>-6.907755</td>\n",
       "      <td>-6.907755</td>\n",
       "      <td>-6.907755</td>\n",
       "      <td>-0.770028</td>\n",
       "      <td>-0.991553</td>\n",
       "      <td>4.804029</td>\n",
       "    </tr>\n",
       "    <tr>\n",
       "      <th>4</th>\n",
       "      <td>-6.907755</td>\n",
       "      <td>3.568434</td>\n",
       "      <td>-0.543005</td>\n",
       "      <td>-6.907755</td>\n",
       "      <td>-0.543005</td>\n",
       "      <td>-0.543005</td>\n",
       "      <td>-6.907755</td>\n",
       "      <td>-6.907755</td>\n",
       "      <td>-0.543005</td>\n",
       "      <td>-0.543005</td>\n",
       "      <td>...</td>\n",
       "      <td>-6.907755</td>\n",
       "      <td>-6.907755</td>\n",
       "      <td>-6.907755</td>\n",
       "      <td>-6.907755</td>\n",
       "      <td>-6.907755</td>\n",
       "      <td>-6.907755</td>\n",
       "      <td>-6.907755</td>\n",
       "      <td>-1.427116</td>\n",
       "      <td>-1.427116</td>\n",
       "      <td>5.332724</td>\n",
       "    </tr>\n",
       "  </tbody>\n",
       "</table>\n",
       "<p>5 rows × 34 columns</p>\n",
       "</div>"
      ],
      "text/plain": [
       "         X3        X4        X5        X6        X7        X8        X9  \\\n",
       "0  1.468105 -6.907755 -6.907755 -6.907755 -6.907755 -6.907755 -6.907755   \n",
       "1 -0.578034 -6.907755  0.114221 -0.578034  0.811375 -6.907755 -6.907755   \n",
       "2 -6.907755 -6.907755 -6.907755 -6.907755 -6.907755 -6.907755 -6.907755   \n",
       "3 -0.444726 -6.907755  0.658038 -6.907755 -6.907755 -6.907755 -6.907755   \n",
       "4 -6.907755  3.568434 -0.543005 -6.907755 -0.543005 -0.543005 -6.907755   \n",
       "\n",
       "        X12       X16       X17  ...       X43       X44       X45       X46  \\\n",
       "0 -6.907755 -6.907755 -6.907755  ... -6.907755 -6.907755 -6.907755 -6.907755   \n",
       "1 -0.578034 -6.907755 -6.907755  ... -6.907755 -6.907755 -0.578034 -6.907755   \n",
       "2 -6.907755 -6.907755 -6.907755  ... -6.907755 -6.907755  0.993622 -6.907755   \n",
       "3  0.255417  0.255417 -0.444726  ... -6.907755 -6.907755 -6.907755 -6.907755   \n",
       "4 -6.907755 -0.543005 -0.543005  ... -6.907755 -6.907755 -6.907755 -6.907755   \n",
       "\n",
       "        X47       X48       X49       X52       X53       X57  \n",
       "0 -6.907755 -6.907755 -6.907755  0.294906 -6.907755  2.484990  \n",
       "1 -6.907755 -6.907755 -6.907755 -0.685179 -6.907755  5.926929  \n",
       "2 -6.907755 -6.907755 -6.907755 -6.907755 -6.907755  1.609638  \n",
       "3 -6.907755 -6.907755 -6.907755 -0.770028 -0.991553  4.804029  \n",
       "4 -6.907755 -6.907755 -6.907755 -1.427116 -1.427116  5.332724  \n",
       "\n",
       "[5 rows x 34 columns]"
      ]
     },
     "execution_count": 16,
     "metadata": {},
     "output_type": "execute_result"
    }
   ],
   "source": [
    "df_final.head()"
   ]
  },
  {
   "cell_type": "code",
   "execution_count": 17,
   "id": "a1d30148",
   "metadata": {},
   "outputs": [
    {
     "data": {
      "text/plain": [
       "Index(['X3', 'X4', 'X5', 'X6', 'X7', 'X8', 'X9', 'X12', 'X16', 'X17', 'X18',\n",
       "       'X19', 'X20', 'X21', 'X22', 'X23', 'X24', 'X25', 'X26', 'X27', 'X33',\n",
       "       'X35', 'X37', 'X42', 'X43', 'X44', 'X45', 'X46', 'X47', 'X48', 'X49',\n",
       "       'X52', 'X53', 'X57'],\n",
       "      dtype='object')"
      ]
     },
     "execution_count": 17,
     "metadata": {},
     "output_type": "execute_result"
    }
   ],
   "source": [
    "df_final.columns"
   ]
  },
  {
   "cell_type": "code",
   "execution_count": 18,
   "id": "c3099dba",
   "metadata": {},
   "outputs": [],
   "source": [
    "#split the data into train and validation data\n",
    "X = df_final\n",
    "Y = df['Y']\n",
    "X_train, X_val, y_train, y_val =  train_test_split(X, Y, test_size = 0.2, random_state = 20)"
   ]
  },
  {
   "cell_type": "markdown",
   "id": "3df9e6d3",
   "metadata": {},
   "source": [
    "<h1>Modelling</h1>"
   ]
  },
  {
   "cell_type": "markdown",
   "id": "0fcd17c9",
   "metadata": {},
   "source": [
    "<h2>Logistic Regression</h2>\n",
    "\n",
    "- with features selected using forward feature selection method"
   ]
  },
  {
   "cell_type": "code",
   "execution_count": 88,
   "id": "259fef8d",
   "metadata": {},
   "outputs": [
    {
     "name": "stderr",
     "output_type": "stream",
     "text": [
      "C:\\Users\\siddh\\Anaconda3\\lib\\site-packages\\sklearn\\linear_model\\_logistic.py:814: ConvergenceWarning: lbfgs failed to converge (status=1):\n",
      "STOP: TOTAL NO. of ITERATIONS REACHED LIMIT.\n",
      "\n",
      "Increase the number of iterations (max_iter) or scale the data as shown in:\n",
      "    https://scikit-learn.org/stable/modules/preprocessing.html\n",
      "Please also refer to the documentation for alternative solver options:\n",
      "    https://scikit-learn.org/stable/modules/linear_model.html#logistic-regression\n",
      "  n_iter_i = _check_optimize_result(\n"
     ]
    },
    {
     "data": {
      "text/plain": [
       "LogisticRegression(C=100, class_weight='balanced')"
      ]
     },
     "execution_count": 88,
     "metadata": {},
     "output_type": "execute_result"
    }
   ],
   "source": [
    "lr = LogisticRegression(C =100, class_weight = 'balanced')\n",
    "lr.fit(X_train, y_train)"
   ]
  },
  {
   "cell_type": "code",
   "execution_count": 89,
   "id": "8c74e0dc",
   "metadata": {},
   "outputs": [
    {
     "name": "stdout",
     "output_type": "stream",
     "text": [
      "training accuracy - 0.9427749360613811,  val accuracy - 0.9360613810741688\n",
      "training f1 - 0.9292769656262347,  val f1 - 0.9100719424460432\n",
      "training log loss - 0.16159531054746207, val log loss - 0.18968650539788315\n"
     ]
    },
    {
     "name": "stderr",
     "output_type": "stream",
     "text": [
      "C:\\Users\\siddh\\Anaconda3\\lib\\site-packages\\sklearn\\utils\\deprecation.py:87: FutureWarning: Function plot_confusion_matrix is deprecated; Function `plot_confusion_matrix` is deprecated in 1.0 and will be removed in 1.2. Use one of the class methods: ConfusionMatrixDisplay.from_predictions or ConfusionMatrixDisplay.from_estimator.\n",
      "  warnings.warn(msg, category=FutureWarning)\n"
     ]
    },
    {
     "data": {
      "image/png": "[encoded data removed]",
      "text/plain": [
       "<Figure size 432x288 with 2 Axes>"
      ]
     },
     "metadata": {
      "needs_background": "light"
     },
     "output_type": "display_data"
    }
   ],
   "source": [
    "y_pred_tr = lr.predict(X_train)\n",
    "y_pred = lr.predict(X_val)\n",
    "print(\"training accuracy - {},  val accuracy - {}\".format(accuracy_score(y_train, y_pred_tr), accuracy_score(y_val, y_pred)))\n",
    "print(\"training f1 - {},  val f1 - {}\".format(f1_score(y_train, y_pred_tr), f1_score(y_val, y_pred)))\n",
    "y_pred_proba_tr = lr.predict_proba(X_train)\n",
    "y_pred_proba = lr.predict_proba(X_val)\n",
    "print(\"training log loss - {}, val log loss - {}\".format(log_loss(y_train, y_pred_proba_tr), log_loss(y_val, y_pred_proba)))\n",
    "plot_confusion_matrix(lr, X_val, y_val)  \n",
    "plt.show()"
   ]
  },
  {
   "cell_type": "markdown",
   "id": "f13acf18",
   "metadata": {},
   "source": [
    "<h2>SVM</h2>\n",
    "\n",
    "- with features selected using forward feature selection method"
   ]
  },
  {
   "cell_type": "code",
   "execution_count": 19,
   "id": "259dceec",
   "metadata": {},
   "outputs": [
    {
     "data": {
      "text/plain": [
       "SVC(class_weight='balanced', probability=True)"
      ]
     },
     "execution_count": 19,
     "metadata": {},
     "output_type": "execute_result"
    }
   ],
   "source": [
    "from sklearn.svm import SVC\n",
    "svm = SVC(class_weight = 'balanced', probability=True)\n",
    "svm.fit(X_train, y_train)"
   ]
  },
  {
   "cell_type": "code",
   "execution_count": 20,
   "id": "e09c3f5c",
   "metadata": {},
   "outputs": [
    {
     "name": "stdout",
     "output_type": "stream",
     "text": [
      "training accuracy - 0.953005115089514,  val accuracy - 0.9475703324808185\n",
      "training f1 - 0.9417821782178218,  val f1 - 0.926654740608229\n",
      "training log loss - 0.12711380960896612, val log loss - 0.15693402424536118\n"
     ]
    },
    {
     "name": "stderr",
     "output_type": "stream",
     "text": [
      "C:\\Users\\siddh\\Anaconda3\\lib\\site-packages\\sklearn\\utils\\deprecation.py:87: FutureWarning: Function plot_confusion_matrix is deprecated; Function `plot_confusion_matrix` is deprecated in 1.0 and will be removed in 1.2. Use one of the class methods: ConfusionMatrixDisplay.from_predictions or ConfusionMatrixDisplay.from_estimator.\n",
      "  warnings.warn(msg, category=FutureWarning)\n"
     ]
    },
    {
     "data": {
      "image/png": "[encoded data removed]",
      "text/plain": [
       "<Figure size 432x288 with 2 Axes>"
      ]
     },
     "metadata": {
      "needs_background": "light"
     },
     "output_type": "display_data"
    }
   ],
   "source": [
    "#rbf outperformed polynomial and linear kernel\n",
    "y_pred_tr = svm.predict(X_train)\n",
    "y_pred = svm.predict(X_val)\n",
    "print(\"training accuracy - {},  val accuracy - {}\".format(accuracy_score(y_train, y_pred_tr), accuracy_score(y_val, y_pred)))\n",
    "print(\"training f1 - {},  val f1 - {}\".format(f1_score(y_train, y_pred_tr), f1_score(y_val, y_pred)))\n",
    "y_pred_proba_tr = svm.predict_proba(X_train)\n",
    "y_pred_proba = svm.predict_proba(X_val)\n",
    "print(\"training log loss - {}, val log loss - {}\".format(log_loss(y_train, y_pred_proba_tr), log_loss(y_val, y_pred_proba)))\n",
    "plot_confusion_matrix(svm, X_val, y_val)  \n",
    "plt.show()"
   ]
  },
  {
   "cell_type": "code",
   "execution_count": 22,
   "id": "2e3941e7",
   "metadata": {},
   "outputs": [],
   "source": [
    "import pickle\n",
    "# save the model to disk\n",
    "filename = 'finalized_model.sav'\n",
    "pickle.dump(svm, open(filename, 'wb'))"
   ]
  },
  {
   "cell_type": "markdown",
   "id": "8c4758bf",
   "metadata": {},
   "source": [
    "<h3>XGBOOST</h3>"
   ]
  },
  {
   "cell_type": "code",
   "execution_count": 93,
   "id": "10c5c996",
   "metadata": {},
   "outputs": [
    {
     "name": "stdout",
     "output_type": "stream",
     "text": [
      "training accuracy - 0.995843989769821,  val accuracy - 0.9462915601023018\n",
      "training f1 - 0.9948020791683326,  val f1 - 0.924187725631769\n",
      "training log loss - 0.05189355690241793, val log loss - 0.1574845265232112\n"
     ]
    },
    {
     "name": "stderr",
     "output_type": "stream",
     "text": [
      "C:\\Users\\siddh\\Anaconda3\\lib\\site-packages\\sklearn\\utils\\deprecation.py:87: FutureWarning: Function plot_confusion_matrix is deprecated; Function `plot_confusion_matrix` is deprecated in 1.0 and will be removed in 1.2. Use one of the class methods: ConfusionMatrixDisplay.from_predictions or ConfusionMatrixDisplay.from_estimator.\n",
      "  warnings.warn(msg, category=FutureWarning)\n"
     ]
    },
    {
     "data": {
      "image/png": "[encoded data removed]",
      "text/plain": [
       "<Figure size 432x288 with 2 Axes>"
      ]
     },
     "metadata": {
      "needs_background": "light"
     },
     "output_type": "display_data"
    }
   ],
   "source": [
    "xg_cf=XGBClassifier()\n",
    "xg_cf.fit(X_train,y_train)\n",
    "c_cfl=CalibratedClassifierCV(xg_cf, method='sigmoid')\n",
    "c_cfl.fit(X_train, y_train)\n",
    "\n",
    "y_pred_tr = xg_cf.predict(X_train)\n",
    "y_pred = xg_cf.predict(X_val)\n",
    "print(\"training accuracy - {},  val accuracy - {}\".format(accuracy_score(y_train, y_pred_tr), accuracy_score(y_val, y_pred)))\n",
    "print(\"training f1 - {},  val f1 - {}\".format(f1_score(y_train, y_pred_tr), f1_score(y_val, y_pred)))\n",
    "y_pred_proba_tr = c_cfl.predict_proba(X_train)\n",
    "y_pred_proba = c_cfl.predict_proba(X_val)\n",
    "print(\"training log loss - {}, val log loss - {}\".format(log_loss(y_train, y_pred_proba_tr), log_loss(y_val, y_pred_proba)))\n",
    "plot_confusion_matrix(xg_cf, X_val, y_val)  \n",
    "plt.show()"
   ]
  },
  {
   "cell_type": "code",
   "execution_count": 94,
   "id": "4240c9b0",
   "metadata": {},
   "outputs": [
    {
     "data": {
      "image/png": "[encoded data removed]",
      "text/plain": [
       "<Figure size 864x864 with 1 Axes>"
      ]
     },
     "metadata": {
      "needs_background": "light"
     },
     "output_type": "display_data"
    }
   ],
   "source": [
    "#plotting feature importance\n",
    "plot_feature_importances(xg_cf)"
   ]
  },
  {
   "cell_type": "markdown",
   "id": "a51d6d1c",
   "metadata": {},
   "source": [
    "<h2>Using All Features</h2>"
   ]
  },
  {
   "cell_type": "code",
   "execution_count": 95,
   "id": "c852bd96",
   "metadata": {},
   "outputs": [],
   "source": [
    "from xgboost import XGBClassifier\n",
    "from sklearn.model_selection import RandomizedSearchCV \n",
    "#split the data into train and validation data\n",
    "X = df[features]\n",
    "Y = df['Y']\n",
    "X_train, X_val, y_train, y_val =  train_test_split(X, Y, test_size = 0.2, random_state = 20)"
   ]
  },
  {
   "cell_type": "markdown",
   "id": "dd614712",
   "metadata": {},
   "source": [
    "<h2>Logistic Regression</h2>"
   ]
  },
  {
   "cell_type": "code",
   "execution_count": 96,
   "id": "739c8f94",
   "metadata": {},
   "outputs": [
    {
     "name": "stderr",
     "output_type": "stream",
     "text": [
      "C:\\Users\\siddh\\Anaconda3\\lib\\site-packages\\sklearn\\linear_model\\_logistic.py:814: ConvergenceWarning: lbfgs failed to converge (status=1):\n",
      "STOP: TOTAL NO. of ITERATIONS REACHED LIMIT.\n",
      "\n",
      "Increase the number of iterations (max_iter) or scale the data as shown in:\n",
      "    https://scikit-learn.org/stable/modules/preprocessing.html\n",
      "Please also refer to the documentation for alternative solver options:\n",
      "    https://scikit-learn.org/stable/modules/linear_model.html#logistic-regression\n",
      "  n_iter_i = _check_optimize_result(\n"
     ]
    },
    {
     "data": {
      "text/plain": [
       "LogisticRegression(C=100, class_weight='balanced')"
      ]
     },
     "execution_count": 96,
     "metadata": {},
     "output_type": "execute_result"
    }
   ],
   "source": [
    "lr = LogisticRegression(C =100, class_weight = 'balanced')\n",
    "lr.fit(X_train, y_train)"
   ]
  },
  {
   "cell_type": "code",
   "execution_count": 97,
   "id": "6f1d28fd",
   "metadata": {},
   "outputs": [
    {
     "name": "stdout",
     "output_type": "stream",
     "text": [
      "training accuracy - 0.9213554987212276,  val accuracy - 0.9168797953964194\n",
      "training f1 - 0.9042056074766355,  val f1 - 0.8853615520282188\n",
      "training log loss - 0.23354346960164465, val log loss - 0.29078954826084136\n"
     ]
    },
    {
     "name": "stderr",
     "output_type": "stream",
     "text": [
      "C:\\Users\\siddh\\Anaconda3\\lib\\site-packages\\sklearn\\utils\\deprecation.py:87: FutureWarning: Function plot_confusion_matrix is deprecated; Function `plot_confusion_matrix` is deprecated in 1.0 and will be removed in 1.2. Use one of the class methods: ConfusionMatrixDisplay.from_predictions or ConfusionMatrixDisplay.from_estimator.\n",
      "  warnings.warn(msg, category=FutureWarning)\n"
     ]
    },
    {
     "data": {
      "image/png": "[encoded data removed]",
      "text/plain": [
       "<Figure size 432x288 with 2 Axes>"
      ]
     },
     "metadata": {
      "needs_background": "light"
     },
     "output_type": "display_data"
    }
   ],
   "source": [
    "y_pred_tr = lr.predict(X_train)\n",
    "y_pred = lr.predict(X_val)\n",
    "print(\"training accuracy - {},  val accuracy - {}\".format(accuracy_score(y_train, y_pred_tr), accuracy_score(y_val, y_pred)))\n",
    "print(\"training f1 - {},  val f1 - {}\".format(f1_score(y_train, y_pred_tr), f1_score(y_val, y_pred)))\n",
    "y_pred_proba_tr = lr.predict_proba(X_train)\n",
    "y_pred_proba = lr.predict_proba(X_val)\n",
    "print(\"training log loss - {}, val log loss - {}\".format(log_loss(y_train, y_pred_proba_tr), log_loss(y_val, y_pred_proba)))\n",
    "plot_confusion_matrix(lr, X_val, y_val)  \n",
    "plt.show()"
   ]
  },
  {
   "cell_type": "markdown",
   "id": "86b934e5",
   "metadata": {},
   "source": [
    "<h2>SVM</h2>"
   ]
  },
  {
   "cell_type": "code",
   "execution_count": 98,
   "id": "de809357",
   "metadata": {},
   "outputs": [
    {
     "data": {
      "text/plain": [
       "SVC(class_weight='balanced', probability=True)"
      ]
     },
     "execution_count": 98,
     "metadata": {},
     "output_type": "execute_result"
    }
   ],
   "source": [
    "svm = SVC(class_weight = 'balanced', probability=True)\n",
    "svm.fit(X_train, y_train)"
   ]
  },
  {
   "cell_type": "code",
   "execution_count": 99,
   "id": "ebe334e2",
   "metadata": {},
   "outputs": [
    {
     "name": "stdout",
     "output_type": "stream",
     "text": [
      "training accuracy - 0.6978900255754475,  val accuracy - 0.7263427109974424\n",
      "training f1 - 0.6286836935166994,  val f1 - 0.627177700348432\n",
      "training log loss - 0.5536457967072866, val log loss - 0.5282568799432283\n"
     ]
    },
    {
     "name": "stderr",
     "output_type": "stream",
     "text": [
      "C:\\Users\\siddh\\Anaconda3\\lib\\site-packages\\sklearn\\utils\\deprecation.py:87: FutureWarning: Function plot_confusion_matrix is deprecated; Function `plot_confusion_matrix` is deprecated in 1.0 and will be removed in 1.2. Use one of the class methods: ConfusionMatrixDisplay.from_predictions or ConfusionMatrixDisplay.from_estimator.\n",
      "  warnings.warn(msg, category=FutureWarning)\n"
     ]
    },
    {
     "data": {
      "image/png": "[encoded data removed]",
      "text/plain": [
       "<Figure size 432x288 with 2 Axes>"
      ]
     },
     "metadata": {
      "needs_background": "light"
     },
     "output_type": "display_data"
    }
   ],
   "source": [
    "y_pred_tr = svm.predict(X_train)\n",
    "y_pred = svm.predict(X_val)\n",
    "print(\"training accuracy - {},  val accuracy - {}\".format(accuracy_score(y_train, y_pred_tr), accuracy_score(y_val, y_pred)))\n",
    "print(\"training f1 - {},  val f1 - {}\".format(f1_score(y_train, y_pred_tr), f1_score(y_val, y_pred)))\n",
    "y_pred_proba_tr = svm.predict_proba(X_train)\n",
    "y_pred_proba = svm.predict_proba(X_val)\n",
    "print(\"training log loss - {}, val log loss - {}\".format(log_loss(y_train, y_pred_proba_tr), log_loss(y_val, y_pred_proba)))\n",
    "plot_confusion_matrix(svm, X_val, y_val)  \n",
    "plt.show()"
   ]
  },
  {
   "cell_type": "markdown",
   "id": "220cedf3",
   "metadata": {},
   "source": [
    "<h2>XGBOOST</h2>\n",
    "\n",
    "- with all the features"
   ]
  },
  {
   "cell_type": "code",
   "execution_count": 101,
   "id": "8f4805da",
   "metadata": {},
   "outputs": [
    {
     "name": "stdout",
     "output_type": "stream",
     "text": [
      "training accuracy - 0.9990409207161125,  val accuracy - 0.9526854219948849\n",
      "training f1 - 0.998805256869773,  val f1 - 0.9326047358834243\n",
      "training log loss - 0.04490695455245478, val log loss - 0.1423758771017\n"
     ]
    },
    {
     "name": "stderr",
     "output_type": "stream",
     "text": [
      "C:\\Users\\siddh\\Anaconda3\\lib\\site-packages\\sklearn\\utils\\deprecation.py:87: FutureWarning: Function plot_confusion_matrix is deprecated; Function `plot_confusion_matrix` is deprecated in 1.0 and will be removed in 1.2. Use one of the class methods: ConfusionMatrixDisplay.from_predictions or ConfusionMatrixDisplay.from_estimator.\n",
      "  warnings.warn(msg, category=FutureWarning)\n"
     ]
    },
    {
     "data": {
      "image/png": "[encoded data removed]",
      "text/plain": [
       "<Figure size 432x288 with 2 Axes>"
      ]
     },
     "metadata": {
      "needs_background": "light"
     },
     "output_type": "display_data"
    }
   ],
   "source": [
    "xg_cf=XGBClassifier()\n",
    "xg_cf.fit(X_train,y_train)\n",
    "c_cfl=CalibratedClassifierCV(xg_cf, method='sigmoid')\n",
    "c_cfl.fit(X_train, y_train)\n",
    "\n",
    "y_pred_tr = xg_cf.predict(X_train)\n",
    "y_pred = xg_cf.predict(X_val)\n",
    "print(\"training accuracy - {},  val accuracy - {}\".format(accuracy_score(y_train, y_pred_tr), accuracy_score(y_val, y_pred)))\n",
    "print(\"training f1 - {},  val f1 - {}\".format(f1_score(y_train, y_pred_tr), f1_score(y_val, y_pred)))\n",
    "y_pred_proba_tr = c_cfl.predict_proba(X_train)\n",
    "y_pred_proba = c_cfl.predict_proba(X_val)\n",
    "print(\"training log loss - {}, val log loss - {}\".format(log_loss(y_train, y_pred_proba_tr), log_loss(y_val, y_pred_proba)))\n",
    "plot_confusion_matrix(xg_cf, X_val, y_val)  \n",
    "plt.show()"
   ]
  },
  {
   "cell_type": "code",
   "execution_count": 102,
   "id": "0035d12d",
   "metadata": {},
   "outputs": [
    {
     "data": {
      "image/png": "[encoded data removed]",
      "text/plain": [
       "<Figure size 864x864 with 1 Axes>"
      ]
     },
     "metadata": {
      "needs_background": "light"
     },
     "output_type": "display_data"
    }
   ],
   "source": [
    "#plotting feature importance\n",
    "plot_feature_importances(xg_cf)"
   ]
  },
  {
   "cell_type": "markdown",
   "id": "fa81d9fe",
   "metadata": {},
   "source": [
    "<h2>Summary</h2>"
   ]
  },
  {
   "cell_type": "code",
   "execution_count": 23,
   "id": "da4e8213",
   "metadata": {},
   "outputs": [
    {
     "name": "stdout",
     "output_type": "stream",
     "text": [
      "+-----------------------------+---------------------+--------------+--------------+--------------+\n",
      "| Feature_selection_technique |        Model        | Val_Accuracy | Val_F1_score | Val_log_loss |\n",
      "+-----------------------------+---------------------+--------------+--------------+--------------+\n",
      "|             Chi2            | Logistic Regression |    0.8874    |    0.8450    |    0.2621    |\n",
      "|             Chi2            |         SVM         |    0.8925    |     0.85     |    0.2558    |\n",
      "|             Chi2            |       Xgboost       |    0.9156    |    0.8846    |    0.1945    |\n",
      "|  Forward Feature Selection  | Logistic Regression |    0.9360    |    0.9100    |    0.1896    |\n",
      "|  Forward Feature Selection  |         SVM         |    0.9475    |    0.9266    |    0.1569    |\n",
      "|  Forward Feature Selection  |       Xgboost       |    0.9437    |    0.9191    |    0.1574    |\n",
      "|         All features        | Logistic Regression |    0.9168    |    0.8853    |    0.2907    |\n",
      "|         All features        |         SVM         |    0.7263    |    0.6271    |    0.5283    |\n",
      "|         All features        |       Xgboost       |    0.9526    |    0.9326    |    0.1423    |\n",
      "+-----------------------------+---------------------+--------------+--------------+--------------+\n"
     ]
    }
   ],
   "source": [
    "from prettytable import PrettyTable\n",
    "  \n",
    "# Specify the Column Names while initializing the Table\n",
    "myTable = PrettyTable([\"Feature_selection_technique\", \"Model\", \"Val_Accuracy\", \"Val_F1_score\", \"Val_log_loss\"])\n",
    "  \n",
    "# Add rows\n",
    "myTable.add_row([\"Chi2\", \"Logistic Regression\", \"0.8874\", \"0.8450\", \"0.2621\"])\n",
    "myTable.add_row([\"Chi2\", \"SVM\", \"0.8925\", \"0.85\", \"0.2558\"])\n",
    "myTable.add_row([\"Chi2\", \"Xgboost\", \"0.9156\", \"0.8846\", \"0.1945\"])\n",
    "myTable.add_row([\"Forward Feature Selection\", \"Logistic Regression\", \"0.9360\", \"0.9100\", \"0.1896\"])\n",
    "myTable.add_row([\"Forward Feature Selection\", \"SVM\", \"0.9475\", \"0.9266\", \"0.1569\"])\n",
    "myTable.add_row([\"Forward Feature Selection\", \"Xgboost\", \"0.9437\", \"0.9191\", \"0.1574\"])\n",
    "myTable.add_row([\"All features\", \"Logistic Regression\", \"0.9168\", \"0.8853\", \"0.2907\"])\n",
    "myTable.add_row([\"All features\", \"SVM\", \"0.7263\", \"0.6271\", \"0.5283\"])\n",
    "myTable.add_row([\"All features\", \"Xgboost\", \"0.9526\", \"0.9326\", \"0.1423\"])\n",
    "  \n",
    "print(myTable)"
   ]
  },
  {
   "cell_type": "markdown",
   "id": "a099b8c0",
   "metadata": {},
   "source": [
    "- Final model would be svm with features obtained using forward feature selection method\n",
    "\n",
    "- Justifications for svm performing well and choosing it for final modelling\n",
    "  \n",
    "- Data might not be linearly seperable and hence logistic regression or svm with linear kernel are not performing as\n",
    "  good as non linear models like xgboost or svm with rbf or polynomial kernel.\n",
    "  \n",
    "- Due to addition of more features in forward feature selection then chi2 the performance of linear models improved because they   have higher number of dimensions(possibilites) to draw a hyperplane that can best seperate the two classes.\n",
    "\n",
    "- SVM with polynomial kernel is chosen as the final model because it was performing the best(highest accuracy/f1_score).Also the training time is less for it then xgboost model. Hence svm was selected as the final model. Also the difference between training and test accuracies is less in case of svm in comparasion to xgboost which shows the the model generalizes well for both seen and unseen data."
   ]
  },
  {
   "cell_type": "code",
   "execution_count": null,
   "id": "887c4cef",
   "metadata": {},
   "outputs": [],
   "source": []
  }
 ],
 "metadata": {
  "kernelspec": {
   "display_name": "Python 3",
   "language": "python",
   "name": "python3"
  },
  "language_info": {
   "codemirror_mode": {
    "name": "ipython",
    "version": 3
   },
   "file_extension": ".py",
   "mimetype": "text/x-python",
   "name": "python",
   "nbconvert_exporter": "python",
   "pygments_lexer": "ipython3",
   "version": "3.8.8"
  }
 },
 "nbformat": 4,
 "nbformat_minor": 5
}
